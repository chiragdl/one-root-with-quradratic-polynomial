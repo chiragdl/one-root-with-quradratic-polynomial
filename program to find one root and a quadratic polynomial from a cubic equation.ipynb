{
 "cells": [
  {
   "cell_type": "markdown",
   "id": "f9cf9050",
   "metadata": {},
   "source": [
    "### 1. program to find one root and a quadratic polynomial from a cubic equation"
   ]
  },
  {
   "cell_type": "code",
   "execution_count": 2,
   "id": "2493fd8e",
   "metadata": {
    "scrolled": true
   },
   "outputs": [
    {
     "name": "stdout",
     "output_type": "stream",
     "text": [
      "enter the coefficent of x^3:1\n",
      "enter the coefficent of x^2:5\n",
      "enter the coefficent of x:5\n",
      "enter the coefficent of constant:1\n",
      "one of the root is: -1\n"
     ]
    }
   ],
   "source": [
    "a = int(input('enter the coefficent of x^3:'))\n",
    "b = int(input('enter the coefficent of x^2:'))\n",
    "c = int(input('enter the coefficent of x:'))\n",
    "d = int(input('enter the coefficent of constant:'))\n",
    "\n",
    "for i in range(-10,10):\n",
    "    res = a*(i)**3 + b*(i)**2 + c*(i) + d\n",
    "    if(res == 0):\n",
    "        print('one of the root is:',i)"
   ]
  },
  {
   "cell_type": "code",
   "execution_count": 3,
   "id": "8e88bef5",
   "metadata": {},
   "outputs": [
    {
     "name": "stdout",
     "output_type": "stream",
     "text": [
      "(array([1., 4.]), array([1., 1.]))\n",
      "1.0 ( 4.0 , 1.0 , 1.0 )\n"
     ]
    }
   ],
   "source": [
    "import numpy as np\n",
    "px = [a,b,c,d]\n",
    "r=[]\n",
    "gx= [1,1,0] \n",
    "rx = np.polydiv(px, gx) # x+1=0\n",
    "print(rx)\n",
    "print(rx[0][0],\"(\",rx[0][1],\",\",rx[1][0],\",\",rx[1][1],\")\")"
   ]
  },
  {
   "cell_type": "code",
   "execution_count": null,
   "id": "cb7895c9",
   "metadata": {},
   "outputs": [],
   "source": []
  }
 ],
 "metadata": {
  "kernelspec": {
   "display_name": "Python 3 (ipykernel)",
   "language": "python",
   "name": "python3"
  },
  "language_info": {
   "codemirror_mode": {
    "name": "ipython",
    "version": 3
   },
   "file_extension": ".py",
   "mimetype": "text/x-python",
   "name": "python",
   "nbconvert_exporter": "python",
   "pygments_lexer": "ipython3",
   "version": "3.9.13"
  }
 },
 "nbformat": 4,
 "nbformat_minor": 5
}
